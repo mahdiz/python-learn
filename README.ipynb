{
 "cells": [
  {
   "cell_type": "markdown",
   "metadata": {},
   "source": [
    "# Learning Python\n",
    "Run using Python 3.0+"
   ]
  },
  {
   "cell_type": "markdown",
   "metadata": {},
   "source": [
    "## Basics "
   ]
  },
  {
   "cell_type": "code",
   "execution_count": 1,
   "metadata": {},
   "outputs": [
    {
     "name": "stdout",
     "output_type": "stream",
     "text": [
      "Enter an integer: 6\n",
      "7\n"
     ]
    }
   ],
   "source": [
    "# Reading an int\n",
    "i = int(input(\"Enter an integer: \"))\n",
    "print(i+1)"
   ]
  },
  {
   "cell_type": "code",
   "execution_count": 2,
   "metadata": {},
   "outputs": [
    {
     "name": "stdout",
     "output_type": "stream",
     "text": [
      "Enter three integers: 6 7 8\n",
      "(12, 14, 16)\n"
     ]
    }
   ],
   "source": [
    "# Reading multiple values\n",
    "v1, v2, v3 = (int(x) for x in input(\"Enter three integers: \").strip().split())\n",
    "print(\"(\" + str(v1*2) + \", \" + str(v2*2) + \", \" + str(v3*2) + \")\")"
   ]
  },
  {
   "cell_type": "code",
   "execution_count": 3,
   "metadata": {},
   "outputs": [
    {
     "name": "stdout",
     "output_type": "stream",
     "text": [
      "Enter a comma-separated list of integers: 4,5,6,7\n",
      "(8, 10, 12, 14)\n"
     ]
    }
   ],
   "source": [
    "# Creating a tuple\n",
    "t = tuple(int(x) for x in input(\"Enter a comma-separated list of integers: \").strip().split(','))\n",
    "print(tuple(x*2 for x in t))"
   ]
  },
  {
   "cell_type": "code",
   "execution_count": 4,
   "metadata": {},
   "outputs": [
    {
     "name": "stdout",
     "output_type": "stream",
     "text": [
      "[0, 1, 2, 3, 7, 8]\n"
     ]
    }
   ],
   "source": [
    "print(sorted([8,3,1,0,2,7]))"
   ]
  },
  {
   "cell_type": "code",
   "execution_count": 5,
   "metadata": {},
   "outputs": [
    {
     "name": "stdout",
     "output_type": "stream",
     "text": [
      "0\n",
      "1\n",
      "2\n",
      "3\n"
     ]
    }
   ],
   "source": [
    "for x in range(4):  # By default, range starts at 0, i.e., [0,4)\n",
    "    print(x)"
   ]
  },
  {
   "cell_type": "code",
   "execution_count": 6,
   "metadata": {},
   "outputs": [
    {
     "name": "stdout",
     "output_type": "stream",
     "text": [
      "3\n",
      "4\n",
      "5\n"
     ]
    }
   ],
   "source": [
    "for x in range(3,6):\n",
    "    print(x)"
   ]
  },
  {
   "cell_type": "code",
   "execution_count": 7,
   "metadata": {},
   "outputs": [
    {
     "name": "stdout",
     "output_type": "stream",
     "text": [
      "8\n",
      "7\n",
      "[7, 8]\n",
      "[1, 2, 3, 4, 5, 6]\n"
     ]
    }
   ],
   "source": [
    "a = [1,2,3,4,5,6,7,8]\n",
    "b = [4,5,6,7,8,9,0,1]\n",
    "print(a[-1])    # Last values\n",
    "print(a[-2])    # Second to last values\n",
    "print(a[-2:])   # The last two values\n",
    "print(a[:-2])   # Everything except the last two values"
   ]
  },
  {
   "cell_type": "code",
   "execution_count": 8,
   "metadata": {},
   "outputs": [
    {
     "name": "stdout",
     "output_type": "stream",
     "text": [
      "[('a', 4), ('b', 5), ('c', 6)]\n"
     ]
    }
   ],
   "source": [
    "# Zip two arrays to create pairs\n",
    "firsts = ['a', 'b', 'c']\n",
    "seconds = [4, 5, 6]\n",
    "print(list(zip(firsts, seconds)))"
   ]
  },
  {
   "cell_type": "markdown",
   "metadata": {},
   "source": [
    "### If Statements"
   ]
  },
  {
   "cell_type": "code",
   "execution_count": 9,
   "metadata": {},
   "outputs": [
    {
     "name": "stdout",
     "output_type": "stream",
     "text": [
      "First is positive.\n"
     ]
    }
   ],
   "source": [
    "if a[0] > 0:\n",
    "    print(\"First is positive.\")\n",
    "elif a[0] == 0:                     # Note: elif, not elseif\n",
    "    print(\"First is zero.\")\n",
    "elif a[0] != -65:\n",
    "    print(\"First is not -65.\")\n",
    "elif a[0] % 2 == 0 and a[1] > 0 or a[2] < 0:         # Note: 'and', 'or'\n",
    "    print(\"Complicated :)\")\n",
    "else:\n",
    "    print(\"Something else :)\")"
   ]
  },
  {
   "cell_type": "code",
   "execution_count": 10,
   "metadata": {},
   "outputs": [
    {
     "name": "stdout",
     "output_type": "stream",
     "text": [
      "Found!\n"
     ]
    }
   ],
   "source": [
    "print(\"Not found!\" if 6 not in a else \"Found!\")         # one-line if (Note: \"not in\")"
   ]
  },
  {
   "cell_type": "markdown",
   "metadata": {},
   "source": [
    "### Bitwise Operations\n",
    "``0b`` at beginning defines binary literals."
   ]
  },
  {
   "cell_type": "code",
   "execution_count": 11,
   "metadata": {},
   "outputs": [
    {
     "name": "stdout",
     "output_type": "stream",
     "text": [
      "AND=8, OR=15, XOR=7, NOT=-15, SHIFT-LEFT=28\n"
     ]
    }
   ],
   "source": [
    "a = 0b1110\n",
    "b = 0b1001\n",
    "print(\"AND=\" + str(a & b) + \", OR=\" + str(a | b) + \", XOR=\" + str(a ^ b) + \", NOT=\" + str(~a) + \", SHIFT-LEFT=\" + str(a << 1))"
   ]
  },
  {
   "cell_type": "code",
   "execution_count": 12,
   "metadata": {},
   "outputs": [
    {
     "name": "stdout",
     "output_type": "stream",
     "text": [
      "[1, 2, 4, 8, 16, 32, 64, 128, 256, 512]\n"
     ]
    }
   ],
   "source": [
    "print(list(1 << i for i in range(10)))         # fastest way to generate powers of two"
   ]
  },
  {
   "cell_type": "markdown",
   "metadata": {},
   "source": [
    "## Lambda Expressions"
   ]
  },
  {
   "cell_type": "code",
   "execution_count": 13,
   "metadata": {},
   "outputs": [
    {
     "name": "stdout",
     "output_type": "stream",
     "text": [
      "13\n"
     ]
    }
   ],
   "source": [
    "# Lambdas are nameless functions\n",
    "f = lambda x,y: x + y**2\n",
    "print(f(4,3))"
   ]
  },
  {
   "cell_type": "code",
   "execution_count": 14,
   "metadata": {},
   "outputs": [
    {
     "name": "stdout",
     "output_type": "stream",
     "text": [
      "[(4, 'four'), (1, 'one'), (3, 'three'), (2, 'two')]\n"
     ]
    }
   ],
   "source": [
    "c = [(3, 'three'), (1,'one'), (4, 'four'), (2, 'two')]\n",
    "c.sort(key=lambda x: x[1])\n",
    "print(c)"
   ]
  },
  {
   "cell_type": "markdown",
   "metadata": {},
   "source": [
    "## Map, Reduce, and Filter"
   ]
  },
  {
   "cell_type": "code",
   "execution_count": 15,
   "metadata": {},
   "outputs": [
    {
     "name": "stdout",
     "output_type": "stream",
     "text": [
      "[1, 4, 9, 16, 25]\n"
     ]
    }
   ],
   "source": [
    "# Map applies a function to every item in a list and returns a new list\n",
    "items = [1, 2, 3, 4, 5]\n",
    "print(list(map(lambda x: x**2, items)))"
   ]
  },
  {
   "cell_type": "code",
   "execution_count": 16,
   "metadata": {},
   "outputs": [
    {
     "name": "stdout",
     "output_type": "stream",
     "text": [
      "120\n"
     ]
    }
   ],
   "source": [
    "# Reduce also applies a function to every item but returns only a single value that combine\n",
    "# combines all items accroding to the function\n",
    "from functools import reduce\n",
    "print(reduce(lambda x,y: x*y, items))"
   ]
  },
  {
   "cell_type": "code",
   "execution_count": 17,
   "metadata": {},
   "outputs": [
    {
     "name": "stdout",
     "output_type": "stream",
     "text": [
      "[2, 4]\n"
     ]
    }
   ],
   "source": [
    "# Filter creates a list of elements for which a function returns true\n",
    "print(list(filter(lambda x: x % 2 == 0, items)))"
   ]
  },
  {
   "cell_type": "code",
   "execution_count": 18,
   "metadata": {},
   "outputs": [
    {
     "name": "stdout",
     "output_type": "stream",
     "text": [
      "[7, 9, 11, 13, 15]\n"
     ]
    }
   ],
   "source": [
    "a = [6, 7, 8, 9, 10]\n",
    "print(list(map(lambda x, y: x+y, items, a)))       # Map over two arrays"
   ]
  },
  {
   "cell_type": "markdown",
   "metadata": {},
   "source": [
    "## Data Structures"
   ]
  },
  {
   "cell_type": "code",
   "execution_count": 19,
   "metadata": {},
   "outputs": [
    {
     "name": "stdout",
     "output_type": "stream",
     "text": [
      "{'a': 5, 'b': 6, 123: 7}\n"
     ]
    }
   ],
   "source": [
    "# Dictionary\n",
    "dic = {}\n",
    "dic['a'] = 5\n",
    "dic['b'] = 6\n",
    "dic[123] = 7\n",
    "print(dic)"
   ]
  },
  {
   "cell_type": "code",
   "execution_count": 21,
   "metadata": {},
   "outputs": [
    {
     "name": "stdout",
     "output_type": "stream",
     "text": [
      "a -> 5\n",
      "b -> 6\n",
      "123 -> 7\n"
     ]
    }
   ],
   "source": [
    "# Enumerate dictionary keys\n",
    "for k in dic.keys():\n",
    "    print(k, '->', dic[k])"
   ]
  },
  {
   "cell_type": "code",
   "execution_count": 22,
   "metadata": {},
   "outputs": [
    {
     "name": "stdout",
     "output_type": "stream",
     "text": [
      "a -> 5\n",
      "b -> 6\n",
      "123 -> 7\n"
     ]
    }
   ],
   "source": [
    "# Another way\n",
    "for k,v in dic.items():\n",
    "    print(k, '->', v)"
   ]
  },
  {
   "cell_type": "code",
   "execution_count": 23,
   "metadata": {},
   "outputs": [
    {
     "name": "stdout",
     "output_type": "stream",
     "text": [
      "6\n"
     ]
    }
   ],
   "source": [
    "# Stacks are implemented using lists\n",
    "stack = [3, 4, 5]\n",
    "stack.append(6)     # Stack push\n",
    "print(stack.pop()) "
   ]
  },
  {
   "cell_type": "code",
   "execution_count": 24,
   "metadata": {},
   "outputs": [
    {
     "name": "stdout",
     "output_type": "stream",
     "text": [
      "4\n"
     ]
    }
   ],
   "source": [
    "# List can be used as a queue but it's inefficient to pop the first element (O(n)) so we use class queue\n",
    "from queue import Queue\n",
    "q = Queue()\n",
    "q.put(4)        # enqueue\n",
    "q.put(2)\n",
    "q.put(5)\n",
    "print(q.get())  # deque"
   ]
  },
  {
   "cell_type": "markdown",
   "metadata": {},
   "source": [
    "## Matrices"
   ]
  },
  {
   "cell_type": "code",
   "execution_count": 25,
   "metadata": {},
   "outputs": [
    {
     "name": "stdout",
     "output_type": "stream",
     "text": [
      "[[1, 2], [3, 4]]\n",
      "[[0, 0, 0], [0, 0, 0], [0, 0, 0], [0, 0, 0]]\n"
     ]
    }
   ],
   "source": [
    "# Basic Python matrix\n",
    "print([[1, 2], [3, 4]])\n",
    "M = [[0 for j in range(3)] for i in range(4)]  # Creates a 4x3 matrix using list comprehension\n",
    "print(M)"
   ]
  },
  {
   "cell_type": "code",
   "execution_count": 26,
   "metadata": {},
   "outputs": [
    {
     "name": "stdout",
     "output_type": "stream",
     "text": [
      "[[2 4]\n",
      " [6 8]]\n",
      "[[1 3]\n",
      " [2 4]]\n"
     ]
    }
   ],
   "source": [
    "# numpy matrix is much more powerful\n",
    "import numpy as np\n",
    "A = np.matrix([[1, 2], [3, 4]])\n",
    "print(A*2)\n",
    "print(A.T)   # transpose"
   ]
  },
  {
   "cell_type": "markdown",
   "metadata": {},
   "source": [
    "## Classes"
   ]
  },
  {
   "cell_type": "code",
   "execution_count": 27,
   "metadata": {},
   "outputs": [
    {
     "name": "stdout",
     "output_type": "stream",
     "text": [
      "Betty Simpson\n"
     ]
    }
   ],
   "source": [
    "class Person:\n",
    "\n",
    "    def __init__(self, first, last):       # constructor\n",
    "        self.firstname = first\n",
    "        self.lastname = last\n",
    "\n",
    "    def __str__(self):                     # like Java's ToString()\n",
    "        return self.firstname + \" \" + self.lastname\n",
    "\n",
    "x = Person(\"Betty\", \"Simpson\")\n",
    "print(x)"
   ]
  },
  {
   "cell_type": "code",
   "execution_count": 28,
   "metadata": {},
   "outputs": [
    {
     "name": "stdout",
     "output_type": "stream",
     "text": [
      "Michael Jackson, 1007\n"
     ]
    }
   ],
   "source": [
    "# Inheritance\n",
    "class Employee(Person):\n",
    "\n",
    "    def __init__(self, first, last, staffnum):\n",
    "        super().__init__(first, last)\n",
    "        self.staffnumber = staffnum\n",
    "\n",
    "    def GetStaffNumber(self):             # self has to be fed into every method\n",
    "        return self.staffnumber\n",
    "    \n",
    "    def __str__(self):                    # overriding\n",
    "        return super().__str__() + \", \" +  self.staffnumber\n",
    "\n",
    "y = Employee(\"Michael\", \"Jackson\", \"1007\")\n",
    "print(y)"
   ]
  },
  {
   "cell_type": "markdown",
   "metadata": {},
   "source": [
    "## Examples\n",
    "### DFS Traversal"
   ]
  },
  {
   "cell_type": "code",
   "execution_count": 1,
   "metadata": {},
   "outputs": [
    {
     "name": "stdout",
     "output_type": "stream",
     "text": [
      "['A', 'B', 'S', 'C', 'D', 'E', 'H', 'G', 'F']\n"
     ]
    }
   ],
   "source": [
    "graph = {\n",
    "    'A' : ['B','S'],\n",
    "    'B' : ['A'],\n",
    "    'C' : ['D','E','F','S'],\n",
    "    'D' : ['C'],\n",
    "    'E' : ['C','H'],\n",
    "    'F' : ['C','G'],\n",
    "    'G' : ['F','S'],\n",
    "    'H' : ['E','G'],\n",
    "    'S' : ['A','C','G']\n",
    "}\n",
    "\n",
    "def dfs(graph, node, visited):\n",
    "    if node not in visited:\n",
    "        visited.append(node)\n",
    "        for child in graph[node]:\n",
    "            dfs(graph, child, visited)\n",
    "    return visited\n",
    "\n",
    "visited = dfs(graph, 'A', [])\n",
    "print(visited)"
   ]
  },
  {
   "cell_type": "markdown",
   "metadata": {},
   "source": [
    "### BFS Traversal"
   ]
  },
  {
   "cell_type": "code",
   "execution_count": 3,
   "metadata": {},
   "outputs": [
    {
     "name": "stdout",
     "output_type": "stream",
     "text": [
      "['A', 'B', 'S', 'C', 'G', 'D', 'E', 'F', 'H']\n"
     ]
    }
   ],
   "source": [
    "from queue import Queue\n",
    "\n",
    "def bfs(graph, node):\n",
    "    visited = []\n",
    "    q = Queue()\n",
    "    q.put(node)\n",
    "    while not q.empty():\n",
    "        n = q.get()\n",
    "        if n not in visited:\n",
    "            visited.append(n)\n",
    "            for child in graph[n]:\n",
    "                q.put(child)\n",
    "    return visited\n",
    "            \n",
    "visited = bfs(graph, 'A')\n",
    "print(visited)"
   ]
  },
  {
   "cell_type": "markdown",
   "metadata": {},
   "source": [
    "### Quick Sort"
   ]
  },
  {
   "cell_type": "code",
   "execution_count": 1,
   "metadata": {},
   "outputs": [
    {
     "name": "stdout",
     "output_type": "stream",
     "text": [
      "[0, 1, 2, 3, 4, 5, 6, 7, 8, 9]\n"
     ]
    }
   ],
   "source": [
    "def quick_sort(arr, left, right):\n",
    "    if left >= right:\n",
    "        return\n",
    "    \n",
    "    pivot = arr[int((left+right)/2)]\n",
    "    index = partition(arr, left, right, pivot)\n",
    "    quick_sort(arr, left, index - 1)\n",
    "    quick_sort(arr, index, right)\n",
    "    \n",
    "        \n",
    "def partition(arr, left, right, pivot):\n",
    "    while left <= right:       \n",
    "        while arr[left] < pivot:\n",
    "            left += 1\n",
    "\n",
    "        while arr[right] > pivot:\n",
    "            right -= 1\n",
    "\n",
    "        if left <= right:\n",
    "            arr[left], arr[right] = arr[right], arr[left]\n",
    "            left += 1\n",
    "            right -= 1\n",
    "    return left\n",
    "        \n",
    "a = [8,9,7,1,5,4,6,3,0,2]\n",
    "quick_sort(a, 0, 9)\n",
    "print(a)"
   ]
  },
  {
   "cell_type": "markdown",
   "metadata": {},
   "source": [
    "### Other Examples\n",
    "Given an array of single-digit integers, add one to the integer represented by the array."
   ]
  },
  {
   "cell_type": "code",
   "execution_count": 1,
   "metadata": {},
   "outputs": [
    {
     "name": "stdout",
     "output_type": "stream",
     "text": [
      "[1, 2, 3, 5]\n",
      "[1, 2, 4, 0]\n",
      "[1, 0, 0, 0, 0]\n",
      "[1]\n"
     ]
    }
   ],
   "source": [
    "def add_one(arr):\n",
    "    a = [0]*len(arr)\n",
    "    i = 1\n",
    "    while i <= len(a) and arr[-i] == 9:\n",
    "        a[-i] = 0\n",
    "        i += 1\n",
    "    \n",
    "    if i <= len(a):\n",
    "        a[-i] = arr[-i] + 1\n",
    "        i += 1\n",
    "        while i <= len(a):\n",
    "            a[-i] = arr[-i]\n",
    "            i += 1\n",
    "    else:\n",
    "        a.insert(0,1)\n",
    "    return a\n",
    "\n",
    "print(add_one([1,2,3,4]))\n",
    "print(add_one([1,2,3,9]))\n",
    "print(add_one([9,9,9,9]))\n",
    "print(add_one([]))"
   ]
  },
  {
   "cell_type": "markdown",
   "metadata": {},
   "source": [
    "Python Philosophy \n",
    "-----------------\n",
    "\n",
    "Python is an extremely flexible language and gives you many fancy features such as metaclasses, \n",
    "access to bytecode, on-the-fly compilation, dynamic inheritance, object reparenting, import hacks, \n",
    "reflection, modification of system internals, etc.\n",
    "\n",
    "- Python's philosophy: To describe something as clever is NOT considered a compliment in the Python \n",
    "culture. \n",
    "\n",
    "- Python uses dynamic typing and has a garbage collector for memory management. An important feature \n",
    "of Python is dynamic name resolution (late binding), which binds method and variable names during \n",
    "program execution.\n",
    "\n",
    "- Rather than requiring all desired functionality to be built into the language's core, Python was \n",
    "designed to be highly extensible. New built-in modules can be easily written in C, C++ or Cython.\n",
    "\n",
    "- The design of Python offers only limited support for functional programming in the Lisp tradition. \n",
    "The standard library has two modules (itertools and functools) that implement functional tools \n",
    "borrowed from Haskell and Standard ML.\n",
    "\n",
    "Python Code Conventions\n",
    "-----------------------\n",
    "\n",
    "- Imports should be on separate lines. \n",
    "\n",
    "- TODOs should include the string TODO in all caps, followed by your username in parentheses: TODO(username): # TODO(someuser): Use a \"*\" here for concatenation operator.\n",
    "\n",
    "- If a class inherits from no other base classes, explicitly inherit from object. This also applies to nested classes.\n",
    "\n",
    "- Place related classes and top-level functions together in a module. Unlike Java, there is no need to limit yourself to one class per module.\n",
    "\n",
    "- If an accessor (i.e. getter/setter) function would be trivial you should use public variables instead of accessor functions to avoid the extra cost of function calls in Python. When more functionality is added you can use property to keep the syntax consistent. On the other hand, if access is more complex, or the cost of accessing the variable is significant, you should use function calls. \n",
    "\n",
    "- Use CapWords for class names, but lower_with_under.py for module names. \n",
    "\n",
    "- Every Python source file should be importable. Your code should always check \n",
    "\t\n",
    "\tif __name__ == '__main__': \n",
    "\t\n",
    "\tbefore executing your main program so that the main program is not executed when the module is imported. All code at the top level will be executed when the module is imported. Be careful not to call functions, create objects, or perform other operations that should not be executed when the file is imported.\n",
    "\n",
    "- Indent your code blocks with 2 spaces. Never use tabs or mix tabs and spaces.\n",
    "\n",
    "- Two blank lines between top-level definitions. One blank line between method definitions and between the class line and the first method. Always have a single blank line at the end of the file.\n",
    "\n",
    "- pychecker is a tool for finding bugs in Python source code. It finds problems that are typically caught by a compiler for less dynamic languages like C and C++. \n",
    "\n",
    "- How does python handle generic/template type scenarios? Python uses duck typing, so it doesn't need special syntax to handle multiple types. "
   ]
  }
 ],
 "metadata": {
  "kernelspec": {
   "display_name": "Python 3",
   "language": "python",
   "name": "python3"
  },
  "language_info": {
   "codemirror_mode": {
    "name": "ipython",
    "version": 3
   },
   "file_extension": ".py",
   "mimetype": "text/x-python",
   "name": "python",
   "nbconvert_exporter": "python",
   "pygments_lexer": "ipython3",
   "version": "3.7.3"
  }
 },
 "nbformat": 4,
 "nbformat_minor": 2
}
